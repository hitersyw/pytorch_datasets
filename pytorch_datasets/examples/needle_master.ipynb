{
 "cells": [
  {
   "cell_type": "markdown",
   "metadata": {},
   "source": [
    "# NeedleMaster Dataset Example\n",
    "\n",
    "Predict the needle position and orientation from an image"
   ]
  },
  {
   "cell_type": "markdown",
   "metadata": {},
   "source": [
    "## Imports \n",
    "* pytorch_datasets for Dataset class, DataLoader\n",
    "* tdqm for interactive loading bars \n",
    "* numpy for math \n",
    "* torch for deep learning library\n",
    "* torchvision for deep learning vision library \n",
    "* multiprocessing to run on multiple cpus (if applicable)\n",
    "* random to select random trials/frames in _get__item_, and to make random datasplits\n",
    "* matplotlib for displaying image frames\n",
    "* pdb (debugging)"
   ]
  },
  {
   "cell_type": "code",
   "execution_count": 16,
   "metadata": {},
   "outputs": [],
   "source": [
    "import random \n",
    "import numpy as np\n",
    "from tqdm import tqdm_notebook as tdqm\n",
    "import multiprocessing\n",
    "import matplotlib.pyplot as plt\n",
    "from pdb import set_trace as woah\n",
    "\n",
    "import torch\n",
    "import torchvision\n",
    "import pytorch_datasets"
   ]
  },
  {
   "cell_type": "markdown",
   "metadata": {},
   "source": [
    "Code to set up the environment. Choose if the deep learning will run on the CPU or GPU. Initialize the torch random seed, and if using a GPU the GPU random seed. "
   ]
  },
  {
   "cell_type": "code",
   "execution_count": 3,
   "metadata": {},
   "outputs": [],
   "source": [
    "torch.manual_seed(random.randint(1, 10000))\n",
    "DEVICE = torch.device(\"cuda\" if torch.cuda.is_available() else \"cpu\")\n",
    "if(DEVICE == \"cuda\"):\n",
    "    torch.cuda.manual_seed(random.randint(1, 10000))\n",
    "    # Disable nondeterministic ops (not sure if critical but better safe than sorry)\n",
    "    torch.backends.cudnn.enabled = False  "
   ]
  },
  {
   "cell_type": "markdown",
   "metadata": {},
   "source": [
    "## Introduction\n",
    "This notebook is an example for using the Pytorch Datasets wrapper to write a data loader for the NeedleMaster dataset. \n",
    "\n",
    "* __NeedleMaster__ is an Android game developped by Chris Paxton (https://github.com/cpaxton/needle_master_tools.) Images from recorded demonstrations were rendered to create a toy dataset with images, needle poses, and user actions. This dataset is currently on a local directory. For information contact molly@jhu.edu. \n"
   ]
  },
  {
   "cell_type": "markdown",
   "metadata": {},
   "source": [
    "## Loading Data "
   ]
  },
  {
   "cell_type": "code",
   "execution_count": 4,
   "metadata": {},
   "outputs": [],
   "source": [
    "nm = pytorch_datasets.NeedleMaster('/home/molly/workspace/Surgical_Automation/experiments/needle_master_tools/', \\\n",
    "                                   train_split=None, transforms=None)"
   ]
  },
  {
   "cell_type": "markdown",
   "metadata": {},
   "source": [
    "The attribute '_getitem_' can be used to load individual images and needle poses. The needle position is x/screen_width, y/screen_width, and theta/2_pi"
   ]
  },
  {
   "cell_type": "code",
   "execution_count": 5,
   "metadata": {},
   "outputs": [
    {
     "data": {
      "image/png": "[encoded data removed]",
      "text/plain": [
       "<matplotlib.figure.Figure at 0x7f29284a0f28>"
      ]
     },
     "metadata": {},
     "output_type": "display_data"
    },
    {
     "name": "stdout",
     "output_type": "stream",
     "text": [
      "needle pose: [ 0.17842301  0.32555237  0.85363978]\n"
     ]
    }
   ],
   "source": [
    "sample = nm.__getitem__(idx=100, frame_idx=100)\n",
    "\n",
    "plt.imshow(sample['image'])\n",
    "plt.show()\n",
    "\n",
    "print('needle pose: ' + str(sample['needle']))"
   ]
  },
  {
   "cell_type": "code",
   "execution_count": 6,
   "metadata": {},
   "outputs": [],
   "source": [
    "def tensor_to_numpy_im(image):\n",
    "    C, W, H = image.size()\n",
    "    numpy_image = np.zeros((W, H, C))\n",
    "    for c in range(C):\n",
    "        numpy_image[:,:,c] = image[c,:,:].numpy()\n",
    "    return numpy_image"
   ]
  },
  {
   "cell_type": "markdown",
   "metadata": {},
   "source": [
    "## Model \n",
    "A pretrained resnet18 model is used with a final fully connected layer. The FC layer is used to regress the pose of the needle."
   ]
  },
  {
   "cell_type": "code",
   "execution_count": 7,
   "metadata": {},
   "outputs": [],
   "source": [
    "class Model(torch.nn.Module):\n",
    "    \"\"\" Example Model. ResNet18 with a prediction layer on top. \"\"\"\n",
    "    def __init__(self, num_labels):\n",
    "        super(Model, self).__init__()\n",
    "        self.base_model = torch.nn.Sequential(*list(torchvision.models.resnet18(pretrained=True).children())[:-1])\n",
    "        base_model_fc_size = list(self.base_model.parameters())[-1].size(0)\n",
    "        self.fc = torch.nn.Linear(base_model_fc_size, num_labels)\n",
    "        self.sm = torch.nn.Softmax()\n",
    "        \n",
    "    def forward(self, images):\n",
    "        im_features = self.base_model(images)\n",
    "        preds = self.fc(im_features.squeeze())\n",
    "        return preds"
   ]
  },
  {
   "cell_type": "markdown",
   "metadata": {},
   "source": [
    "## Training Epoch\n",
    "Code to do one epoch of training"
   ]
  },
  {
   "cell_type": "code",
   "execution_count": 35,
   "metadata": {},
   "outputs": [],
   "source": [
    "def epoch(train_mode, description, model, dataloader, optimizer=None, loss_func=None):\n",
    "    \"\"\" Train, validation, or test epoch \"\"\"\n",
    "    # Create dataset iterator\n",
    "    iterator = tqdm(dataloader, ncols=115, desc=description)\n",
    "\n",
    "    # Turn off batch norm, etc. during testing/validation\n",
    "    model = model.train(train_mode)\n",
    "\n",
    "    # Data to print\n",
    "    running_losses, running_predict, running_x, running_y, running_w = [], [], [], [], []\n",
    "\n",
    "    # Loop over all data\n",
    "    with torch.set_grad_enabled(train_mode):\n",
    "        for data in iterator:\n",
    "            outputs = model(data['image'].to(DEVICE)) # Forward pass\n",
    "\n",
    "            if train_mode:\n",
    "                optimizer.zero_grad() # Zero out gradients\n",
    "                loss = loss_func(outputs.double(), torch.cuda.DoubleTensor(data['needle'].to(DEVICE)))\n",
    "                running_losses.append(loss.item())\n",
    "                loss.backward()\n",
    "                optimizer.step()\n",
    "\n",
    "            # Update labels and predictions\n",
    "            prediction = outputs.cpu().detach().numpy()\n",
    "            running_predict.extend(prediction)\n",
    "\n",
    "            # Update accuracy\n",
    "            error_x     = np.mean(abs(data[\"needle\"].numpy()[:,0] - prediction[:,0]))\n",
    "            error_y     = np.mean(abs(data[\"needle\"].numpy()[:,1] - prediction[:,1]))\n",
    "            error_w     = np.mean(abs(data[\"needle\"].numpy()[:,2] - prediction[:,2]))\n",
    "            running_x.append(error_x); running_y.append(error_y); running_w.append(error_w)\n",
    "                          \n",
    "#             info_to_show = {'Error x': \"{:.4f}\".format(error_x)}\n",
    "            \n",
    "#             if train_mode:\n",
    "#                 info_to_show['Loss'] = \"{:.5f}\".format(np.mean(running_losses))\n",
    "#             iterator.set_postfix(info_to_show)\n",
    "    \n",
    "    return running_losses, running_predict, running_x, running_y, running_w"
   ]
  },
  {
   "cell_type": "markdown",
   "metadata": {},
   "source": [
    "## main "
   ]
  },
  {
   "cell_type": "code",
   "execution_count": 36,
   "metadata": {
    "scrolled": true
   },
   "outputs": [
    {
     "name": "stderr",
     "output_type": "stream",
     "text": [
      "\n",
      "\n",
      "Training:   0%|                                                                              | 0/2 [00:00<?, ?it/s]\u001b[A\u001b[A\n",
      "\n",
      "Training:  50%|███████████████████████████████████                                   | 1/2 [00:04<00:04,  4.09s/it]\u001b[A\u001b[A\n",
      "\n",
      "Training: 100%|██████████████████████████████████████████████████████████████████████| 2/2 [00:04<00:00,  2.11s/it]\u001b[A\u001b[A\n",
      "\n",
      "Training:   0%|                                                                              | 0/2 [00:00<?, ?it/s]\u001b[A\u001b[A"
     ]
    },
    {
     "name": "stdout",
     "output_type": "stream",
     "text": [
      "Epoch: 0    Loss: 0.48\t Error_x: 0.42\r"
     ]
    },
    {
     "name": "stderr",
     "output_type": "stream",
     "text": [
      "\n",
      "\n",
      "Training:  50%|███████████████████████████████████                                   | 1/2 [00:04<00:04,  4.04s/it]\u001b[A\u001b[A\n",
      "\n",
      "Training: 100%|██████████████████████████████████████████████████████████████████████| 2/2 [00:04<00:00,  2.09s/it]\u001b[A\u001b[A\n",
      "\n",
      "Training:   0%|                                                                              | 0/2 [00:00<?, ?it/s]\u001b[A\u001b[A"
     ]
    },
    {
     "name": "stdout",
     "output_type": "stream",
     "text": [
      "Epoch: 1    Loss: 0.30\t Error_x: 0.28\r"
     ]
    },
    {
     "name": "stderr",
     "output_type": "stream",
     "text": [
      "\n",
      "\n",
      "Training:  50%|███████████████████████████████████                                   | 1/2 [00:04<00:04,  4.04s/it]\u001b[A\u001b[A\n",
      "\n",
      "Training: 100%|██████████████████████████████████████████████████████████████████████| 2/2 [00:04<00:00,  2.08s/it]\u001b[A\u001b[A\n",
      "\n",
      "Training:   0%|                                                                              | 0/2 [00:00<?, ?it/s]\u001b[A\u001b[A"
     ]
    },
    {
     "name": "stdout",
     "output_type": "stream",
     "text": [
      "Epoch: 2    Loss: 0.21\t Error_x: 0.25\r"
     ]
    },
    {
     "name": "stderr",
     "output_type": "stream",
     "text": [
      "\n",
      "\n",
      "Training:  50%|███████████████████████████████████                                   | 1/2 [00:04<00:04,  4.06s/it]\u001b[A\u001b[A\n",
      "\n",
      "Training: 100%|██████████████████████████████████████████████████████████████████████| 2/2 [00:04<00:00,  2.09s/it]\u001b[A\u001b[A\n",
      "\n",
      "Training:   0%|                                                                              | 0/2 [00:00<?, ?it/s]\u001b[A\u001b[A"
     ]
    },
    {
     "name": "stdout",
     "output_type": "stream",
     "text": [
      "Epoch: 3    Loss: 0.13\t Error_x: 0.23\r"
     ]
    },
    {
     "name": "stderr",
     "output_type": "stream",
     "text": [
      "\n",
      "\n",
      "Training:  50%|███████████████████████████████████                                   | 1/2 [00:04<00:04,  4.07s/it]\u001b[A\u001b[A\n",
      "\n",
      "Training: 100%|██████████████████████████████████████████████████████████████████████| 2/2 [00:04<00:00,  2.10s/it]\u001b[A\u001b[A\n",
      "\n",
      "Training:   0%|                                                                              | 0/2 [00:00<?, ?it/s]\u001b[A\u001b[A"
     ]
    },
    {
     "name": "stdout",
     "output_type": "stream",
     "text": [
      "Epoch: 4    Loss: 0.08\t Error_x: 0.19\r"
     ]
    },
    {
     "name": "stderr",
     "output_type": "stream",
     "text": [
      "\n",
      "\n",
      "Training:  50%|███████████████████████████████████                                   | 1/2 [00:04<00:04,  4.05s/it]\u001b[A\u001b[A\n",
      "\n",
      "Training: 100%|██████████████████████████████████████████████████████████████████████| 2/2 [00:04<00:00,  2.09s/it]\u001b[A\u001b[A\n",
      "\n",
      "Training:   0%|                                                                              | 0/2 [00:00<?, ?it/s]\u001b[A\u001b[A"
     ]
    },
    {
     "name": "stdout",
     "output_type": "stream",
     "text": [
      "Epoch: 5    Loss: 0.06\t Error_x: 0.24\r"
     ]
    },
    {
     "name": "stderr",
     "output_type": "stream",
     "text": [
      "\n",
      "\n",
      "Training:  50%|███████████████████████████████████                                   | 1/2 [00:04<00:04,  4.06s/it]\u001b[A\u001b[A\n",
      "\n",
      "Training: 100%|██████████████████████████████████████████████████████████████████████| 2/2 [00:04<00:00,  2.09s/it]\u001b[A\u001b[A\n",
      "\n",
      "Training:   0%|                                                                              | 0/2 [00:00<?, ?it/s]\u001b[A\u001b[A"
     ]
    },
    {
     "name": "stdout",
     "output_type": "stream",
     "text": [
      "Epoch: 6    Loss: 0.06\t Error_x: 0.19\r"
     ]
    },
    {
     "name": "stderr",
     "output_type": "stream",
     "text": [
      "\n",
      "\n",
      "Training:  50%|███████████████████████████████████                                   | 1/2 [00:04<00:04,  4.06s/it]\u001b[A\u001b[A\n",
      "\n",
      "Training: 100%|██████████████████████████████████████████████████████████████████████| 2/2 [00:04<00:00,  2.10s/it]\u001b[A\u001b[A\n",
      "\n",
      "Training:   0%|                                                                              | 0/2 [00:00<?, ?it/s]\u001b[A\u001b[A"
     ]
    },
    {
     "name": "stdout",
     "output_type": "stream",
     "text": [
      "Epoch: 7    Loss: 0.06\t Error_x: 0.18\r"
     ]
    },
    {
     "name": "stderr",
     "output_type": "stream",
     "text": [
      "\n",
      "\n",
      "Training:  50%|███████████████████████████████████                                   | 1/2 [00:04<00:04,  4.05s/it]\u001b[A\u001b[A\n",
      "\n",
      "Training: 100%|██████████████████████████████████████████████████████████████████████| 2/2 [00:04<00:00,  2.09s/it]\u001b[A\u001b[A\n",
      "\n",
      "Training:   0%|                                                                              | 0/2 [00:00<?, ?it/s]\u001b[A\u001b[A"
     ]
    },
    {
     "name": "stdout",
     "output_type": "stream",
     "text": [
      "Epoch: 8    Loss: 0.06\t Error_x: 0.16\r"
     ]
    },
    {
     "name": "stderr",
     "output_type": "stream",
     "text": [
      "\n",
      "\n",
      "Training:  50%|███████████████████████████████████                                   | 1/2 [00:04<00:04,  4.05s/it]\u001b[A\u001b[A\n",
      "\n",
      "Training: 100%|██████████████████████████████████████████████████████████████████████| 2/2 [00:04<00:00,  2.09s/it]\u001b[A\u001b[A\n",
      "\n",
      "Training:   0%|                                                                              | 0/2 [00:00<?, ?it/s]\u001b[A\u001b[A"
     ]
    },
    {
     "name": "stdout",
     "output_type": "stream",
     "text": [
      "Epoch: 9    Loss: 0.06\t Error_x: 0.19\r"
     ]
    },
    {
     "name": "stderr",
     "output_type": "stream",
     "text": [
      "\n",
      "\n",
      "Training:  50%|███████████████████████████████████                                   | 1/2 [00:04<00:04,  4.13s/it]\u001b[A\u001b[A\n",
      "\n",
      "Training: 100%|██████████████████████████████████████████████████████████████████████| 2/2 [00:04<00:00,  2.13s/it]\u001b[A\u001b[A\n",
      "\n",
      "Training:   0%|                                                                              | 0/2 [00:00<?, ?it/s]\u001b[A\u001b[A"
     ]
    },
    {
     "name": "stdout",
     "output_type": "stream",
     "text": [
      "Epoch: 10    Loss: 0.04\t Error_x: 0.17\r"
     ]
    },
    {
     "name": "stderr",
     "output_type": "stream",
     "text": [
      "\n",
      "\n",
      "Training:  50%|███████████████████████████████████                                   | 1/2 [00:04<00:04,  4.06s/it]\u001b[A\u001b[A\n",
      "\n",
      "Training: 100%|██████████████████████████████████████████████████████████████████████| 2/2 [00:04<00:00,  2.09s/it]\u001b[A\u001b[A\n",
      "\n",
      "Training:   0%|                                                                              | 0/2 [00:00<?, ?it/s]\u001b[A\u001b[A"
     ]
    },
    {
     "name": "stdout",
     "output_type": "stream",
     "text": [
      "Epoch: 11    Loss: 0.04\t Error_x: 0.17\r"
     ]
    },
    {
     "name": "stderr",
     "output_type": "stream",
     "text": [
      "\n",
      "\n",
      "Training:  50%|███████████████████████████████████                                   | 1/2 [00:04<00:04,  4.05s/it]\u001b[A\u001b[A\n",
      "\n",
      "Training: 100%|██████████████████████████████████████████████████████████████████████| 2/2 [00:04<00:00,  2.09s/it]\u001b[A\u001b[A\n",
      "\n",
      "Training:   0%|                                                                              | 0/2 [00:00<?, ?it/s]\u001b[A\u001b[A"
     ]
    },
    {
     "name": "stdout",
     "output_type": "stream",
     "text": [
      "Epoch: 12    Loss: 0.04\t Error_x: 0.16\r"
     ]
    },
    {
     "name": "stderr",
     "output_type": "stream",
     "text": [
      "\n",
      "\n",
      "Training:  50%|███████████████████████████████████                                   | 1/2 [00:04<00:04,  4.06s/it]\u001b[A\u001b[A\n",
      "\n",
      "Training: 100%|██████████████████████████████████████████████████████████████████████| 2/2 [00:04<00:00,  2.09s/it]\u001b[A\u001b[A\n",
      "\n",
      "Training:   0%|                                                                              | 0/2 [00:00<?, ?it/s]\u001b[A\u001b[A"
     ]
    },
    {
     "name": "stdout",
     "output_type": "stream",
     "text": [
      "Epoch: 13    Loss: 0.04\t Error_x: 0.15\r"
     ]
    },
    {
     "name": "stderr",
     "output_type": "stream",
     "text": [
      "\n",
      "\n",
      "Training:  50%|███████████████████████████████████                                   | 1/2 [00:04<00:04,  4.04s/it]\u001b[A\u001b[A\n",
      "\n",
      "Training: 100%|██████████████████████████████████████████████████████████████████████| 2/2 [00:04<00:00,  2.08s/it]\u001b[A\u001b[A\n",
      "\n",
      "Training:   0%|                                                                              | 0/2 [00:00<?, ?it/s]\u001b[A\u001b[A"
     ]
    },
    {
     "name": "stdout",
     "output_type": "stream",
     "text": [
      "Epoch: 14    Loss: 0.04\t Error_x: 0.14\r"
     ]
    },
    {
     "name": "stderr",
     "output_type": "stream",
     "text": [
      "\n",
      "\n",
      "Training:  50%|███████████████████████████████████                                   | 1/2 [00:04<00:04,  4.07s/it]\u001b[A\u001b[A\n",
      "\n",
      "Training: 100%|██████████████████████████████████████████████████████████████████████| 2/2 [00:04<00:00,  2.10s/it]\u001b[A\u001b[A\n",
      "\n",
      "Training:   0%|                                                                              | 0/2 [00:00<?, ?it/s]\u001b[A\u001b[A"
     ]
    },
    {
     "name": "stdout",
     "output_type": "stream",
     "text": [
      "Epoch: 15    Loss: 0.03\t Error_x: 0.15\r"
     ]
    },
    {
     "name": "stderr",
     "output_type": "stream",
     "text": [
      "\n",
      "\n",
      "Training:  50%|███████████████████████████████████                                   | 1/2 [00:04<00:04,  4.06s/it]\u001b[A\u001b[A\n",
      "\n",
      "Training: 100%|██████████████████████████████████████████████████████████████████████| 2/2 [00:04<00:00,  2.09s/it]\u001b[A\u001b[A\n",
      "\n",
      "Training:   0%|                                                                              | 0/2 [00:00<?, ?it/s]\u001b[A\u001b[A"
     ]
    },
    {
     "name": "stdout",
     "output_type": "stream",
     "text": [
      "Epoch: 16    Loss: 0.03\t Error_x: 0.12\r"
     ]
    },
    {
     "name": "stderr",
     "output_type": "stream",
     "text": [
      "\n",
      "\n",
      "Training:  50%|███████████████████████████████████                                   | 1/2 [00:04<00:04,  4.05s/it]\u001b[A\u001b[A\n",
      "\n",
      "Training: 100%|██████████████████████████████████████████████████████████████████████| 2/2 [00:04<00:00,  2.09s/it]\u001b[A\u001b[A\n",
      "\n",
      "Training:   0%|                                                                              | 0/2 [00:00<?, ?it/s]\u001b[A\u001b[A"
     ]
    },
    {
     "name": "stdout",
     "output_type": "stream",
     "text": [
      "Epoch: 17    Loss: 0.03\t Error_x: 0.16\r"
     ]
    },
    {
     "name": "stderr",
     "output_type": "stream",
     "text": [
      "\n",
      "\n",
      "Training:  50%|███████████████████████████████████                                   | 1/2 [00:04<00:04,  4.05s/it]\u001b[A\u001b[A\n",
      "\n",
      "Training: 100%|██████████████████████████████████████████████████████████████████████| 2/2 [00:04<00:00,  2.09s/it]\u001b[A\u001b[A\n",
      "\n",
      "Training:   0%|                                                                              | 0/2 [00:00<?, ?it/s]\u001b[A\u001b[A"
     ]
    },
    {
     "name": "stdout",
     "output_type": "stream",
     "text": [
      "Epoch: 18    Loss: 0.04\t Error_x: 0.14\r"
     ]
    },
    {
     "name": "stderr",
     "output_type": "stream",
     "text": [
      "\n",
      "\n",
      "Training:  50%|███████████████████████████████████                                   | 1/2 [00:04<00:04,  4.07s/it]\u001b[A\u001b[A\n",
      "\n",
      "Training: 100%|██████████████████████████████████████████████████████████████████████| 2/2 [00:04<00:00,  2.10s/it]\u001b[A\u001b[A"
     ]
    },
    {
     "name": "stdout",
     "output_type": "stream",
     "text": [
      "Epoch: 19    Loss: 0.04\t Error_x: 0.13\r"
     ]
    }
   ],
   "source": [
    "# Create image tranforms\n",
    "transforms_train = torchvision.transforms.Compose([\n",
    "    #torchvision.transforms.ToPILImage(),\n",
    "    torchvision.transforms.Resize(256),\n",
    "    torchvision.transforms.RandomCrop((224, 224)),\n",
    "    torchvision.transforms.RandomRotation(30),\n",
    "    torchvision.transforms.ColorJitter(.2, .2, .2, .2), \n",
    "    torchvision.transforms.ToTensor(),\n",
    "    torchvision.transforms.Normalize(mean=[0., 0., 0.], std=[1., 1., 1.]),\n",
    "    \n",
    "])\n",
    "transforms_test = torchvision.transforms.Compose([\n",
    "    #torchvision.transforms.ToPILImage(),\n",
    "    torchvision.transforms.Resize((224, 224)),\n",
    "    torchvision.transforms.ToTensor(),\n",
    "    torchvision.transforms.Normalize(mean=[0.485, 0.456, 0.406], std=[0.229, 0.224, 0.225]),\n",
    "    \n",
    "])\n",
    "\n",
    "# Create datasets\n",
    "root = '/home/molly/workspace/Surgical_Automation/experiments/needle_master_tools/'\n",
    "dataset_train = pytorch_datasets.NeedleMaster(root, train_split=None, transforms=transforms_train)\n",
    "\n",
    "# Create dataloaders\n",
    "dataloader_train = torch.utils.data.DataLoader(dataset_train, shuffle=True,  batch_size=256, num_workers=multiprocessing.cpu_count())\n",
    "\n",
    "# Create Model\n",
    "regress_dim = 3\n",
    "model = Model(regress_dim).to(DEVICE)\n",
    "\n",
    "# Create loss function and optimizer\n",
    "optimizer = torch.optim.Adam([p for p in model.parameters() if p.requires_grad], lr=0.0001)\n",
    "loss_func = torch.nn.MSELoss().to(DEVICE)\n",
    "\n",
    "# Train + Val\n",
    "Loss, Error_x, Error_y, Error_w = [], [], [], []\n",
    "num_epochs = 20\n",
    "for epoch_idx in range(num_epochs):\n",
    "    loss, pred, e_x, e_y, e_w = epoch(True, \"Training\", model, dataloader_train, optimizer, loss_func)\n",
    "    Loss.extend(loss); Error_x.extend(e_x); Error_y.extend(e_y); Error_w.extend(e_w)\n",
    "    #epoch(False, \"Validating\", model, dataloader_val)\n",
    "    print(\"Epoch: \" + str(epoch_idx) + \"    Loss: \"+ \"%1.2f\" % np.mean(loss) +\"\\t Error_x: \"+ \"%1.2f\" % np.mean(e_x) , end='\\r')\n",
    "# Test\n",
    "#epoch(False, \"Testing\", model, dataloader_test)"
   ]
  },
  {
   "cell_type": "code",
   "execution_count": 37,
   "metadata": {
    "scrolled": true
   },
   "outputs": [
    {
     "data": {
      "image/png": "[encoded data removed]",
      "text/plain": [
       "<matplotlib.figure.Figure at 0x7f28340c6ac8>"
      ]
     },
     "metadata": {},
     "output_type": "display_data"
    }
   ],
   "source": [
    "fig = plt.figure(figsize=(10,5))\n",
    "plt.plot(Loss, 'k--', label='Loss')\n",
    "plt.plot(Error_x, c='r', label='Error x')\n",
    "plt.plot(Error_y, c='b', label='Error y')\n",
    "plt.plot(Error_w, c='g', label='Error w')\n",
    "plt.legend()\n",
    "plt.show()"
   ]
  },
  {
   "cell_type": "code",
   "execution_count": 38,
   "metadata": {},
   "outputs": [
    {
     "name": "stderr",
     "output_type": "stream",
     "text": [
      "Traceback (most recent call last):\n",
      "  File \"/usr/lib/python3.5/multiprocessing/queues.py\", line 247, in _feed\n",
      "    send_bytes(obj)\n",
      "Traceback (most recent call last):\n",
      "Traceback (most recent call last):\n",
      "Traceback (most recent call last):\n",
      "  File \"/usr/lib/python3.5/multiprocessing/queues.py\", line 247, in _feed\n",
      "    send_bytes(obj)\n",
      "  File \"/usr/lib/python3.5/multiprocessing/connection.py\", line 200, in send_bytes\n",
      "    self._send_bytes(m[offset:offset + size])\n",
      "Traceback (most recent call last):\n",
      "  File \"/usr/lib/python3.5/multiprocessing/queues.py\", line 247, in _feed\n",
      "    send_bytes(obj)\n",
      "  File \"/usr/lib/python3.5/multiprocessing/queues.py\", line 247, in _feed\n",
      "    send_bytes(obj)\n",
      "Traceback (most recent call last):\n",
      "  File \"/usr/lib/python3.5/multiprocessing/connection.py\", line 200, in send_bytes\n",
      "    self._send_bytes(m[offset:offset + size])\n",
      "  File \"/usr/lib/python3.5/multiprocessing/connection.py\", line 404, in _send_bytes\n",
      "    self._send(header + buf)\n",
      "  File \"/usr/lib/python3.5/multiprocessing/queues.py\", line 247, in _feed\n",
      "    send_bytes(obj)\n",
      "  File \"/usr/lib/python3.5/multiprocessing/connection.py\", line 200, in send_bytes\n",
      "    self._send_bytes(m[offset:offset + size])\n",
      "  File \"/usr/lib/python3.5/multiprocessing/connection.py\", line 200, in send_bytes\n",
      "    self._send_bytes(m[offset:offset + size])\n",
      "  File \"/usr/lib/python3.5/multiprocessing/queues.py\", line 247, in _feed\n",
      "    send_bytes(obj)\n",
      "  File \"/usr/lib/python3.5/multiprocessing/connection.py\", line 404, in _send_bytes\n",
      "    self._send(header + buf)\n",
      "  File \"/usr/lib/python3.5/multiprocessing/connection.py\", line 368, in _send\n",
      "    n = write(self._handle, buf)\n",
      "  File \"/usr/lib/python3.5/multiprocessing/connection.py\", line 200, in send_bytes\n",
      "    self._send_bytes(m[offset:offset + size])\n",
      "  File \"/usr/lib/python3.5/multiprocessing/connection.py\", line 404, in _send_bytes\n",
      "    self._send(header + buf)\n",
      "  File \"/usr/lib/python3.5/multiprocessing/connection.py\", line 404, in _send_bytes\n",
      "    self._send(header + buf)\n",
      "  File \"/usr/lib/python3.5/multiprocessing/connection.py\", line 200, in send_bytes\n",
      "    self._send_bytes(m[offset:offset + size])\n",
      "  File \"/usr/lib/python3.5/multiprocessing/connection.py\", line 368, in _send\n",
      "    n = write(self._handle, buf)\n",
      "BrokenPipeError: [Errno 32] Broken pipe\n",
      "  File \"/usr/lib/python3.5/multiprocessing/connection.py\", line 404, in _send_bytes\n",
      "    self._send(header + buf)\n",
      "  File \"/usr/lib/python3.5/multiprocessing/connection.py\", line 368, in _send\n",
      "    n = write(self._handle, buf)\n",
      "  File \"/usr/lib/python3.5/multiprocessing/connection.py\", line 368, in _send\n",
      "    n = write(self._handle, buf)\n",
      "  File \"/usr/lib/python3.5/multiprocessing/connection.py\", line 404, in _send_bytes\n",
      "    self._send(header + buf)\n",
      "BrokenPipeError: [Errno 32] Broken pipe\n"
     ]
    },
    {
     "data": {
      "image/png": "[encoded data removed]",
      "text/plain": [
       "<matplotlib.figure.Figure at 0x7f2920cfa828>"
      ]
     },
     "metadata": {},
     "output_type": "display_data"
    },
    {
     "name": "stderr",
     "output_type": "stream",
     "text": [
      "  File \"/usr/lib/python3.5/multiprocessing/connection.py\", line 368, in _send\n",
      "    n = write(self._handle, buf)\n",
      "BrokenPipeError: [Errno 32] Broken pipe\n",
      "BrokenPipeError: [Errno 32] Broken pipe\n",
      "  File \"/usr/lib/python3.5/multiprocessing/connection.py\", line 368, in _send\n",
      "    n = write(self._handle, buf)\n",
      "BrokenPipeError: [Errno 32] Broken pipe\n",
      "BrokenPipeError: [Errno 32] Broken pipe\n"
     ]
    }
   ],
   "source": [
    "fig = plt.figure(figsize=(10,5))\n",
    "plt.plot(np.multiply(Error_x, 1920.0), c='r', label='Error x [pixels]')\n",
    "plt.plot(np.multiply(Error_y, 1080.0), c='b', label='Error y [pixels]')\n",
    "# plt.plot(Error_w*2*3.1415, c='g', label='Error w [radians]')\n",
    "plt.legend()\n",
    "plt.show()"
   ]
  },
  {
   "cell_type": "markdown",
   "metadata": {},
   "source": [
    "# About this notebook\n",
    "Created on 2/13/2019. Original code from surgical_activity_recognition.py by Mike Peven. Modified by Molly O'Brien. "
   ]
  },
  {
   "cell_type": "markdown",
   "metadata": {},
   "source": [
    "# Footer "
   ]
  },
  {
   "cell_type": "code",
   "execution_count": null,
   "metadata": {},
   "outputs": [],
   "source": []
  }
 ],
 "metadata": {
  "kernelspec": {
   "display_name": "Python 3",
   "language": "python",
   "name": "python3"
  },
  "language_info": {
   "codemirror_mode": {
    "name": "ipython",
    "version": 3
   },
   "file_extension": ".py",
   "mimetype": "text/x-python",
   "name": "python",
   "nbconvert_exporter": "python",
   "pygments_lexer": "ipython3",
   "version": "3.5.2"
  }
 },
 "nbformat": 4,
 "nbformat_minor": 2
}
